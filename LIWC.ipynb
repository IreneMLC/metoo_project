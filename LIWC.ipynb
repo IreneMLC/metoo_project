{
 "cells": [
  {
   "cell_type": "code",
   "execution_count": 43,
   "metadata": {},
   "outputs": [],
   "source": [
    "import pandas as pd\n",
    "import json\n",
    "import numpy as np\n",
    "import pylab\n",
    "import nltk\n",
    "import operator \n",
    "import json\n",
    "from collections import Counter\n",
    "import wordcloud\n",
    "import matplotlib.pyplot as plt\n",
    "from collections import defaultdict\n",
    "\n",
    "import liwc\n",
    "\n",
    "fr_filename='C:/Users/Robin/Dropbox/Travaux_&_Rapports_Stages/UbicomLab-GATech/MeToo/code/data/#balancetonporc/tweet_fr.json'\n",
    "df_fr = pd.read_json(fr_filename, orient=\"columns\")\n",
    "\n",
    "\n",
    "en_filename = 'C:/Users/Robin/Dropbox/Travaux_&_Rapports_Stages/UbicomLab-GATech/MeToo/code/data/#metoo/tweet_en.json'\n",
    "df_en = pd.read_json(en_filename, orient=\"columns\")\n",
    "\n",
    "mt_filename='C:/Users/Robin/Dropbox/Travaux_&_Rapports_Stages/UbicomLab-GATech/MeToo/code/data/#balancetonporc/metoo_fr.json'\n",
    "df_mt = pd.read_json(fr_filename, orient=\"columns\")\n",
    "\n",
    "\n",
    "nmt_filename = 'C:/Users/Robin/Dropbox/Travaux_&_Rapports_Stages/UbicomLab-GATech/MeToo/code/data/#balancetonporc/nmt_fr.json'\n",
    "df_nmt = pd.read_json(en_filename, orient=\"columns\")"
   ]
  },
  {
   "cell_type": "code",
   "execution_count": 2,
   "metadata": {},
   "outputs": [],
   "source": [
    "parse, category_names = liwc.load_token_parser('French_LIWC2007_Dictionary.dic')"
   ]
  },
  {
   "cell_type": "code",
   "execution_count": 6,
   "metadata": {},
   "outputs": [],
   "source": [
    "from liwc import read_dic\n",
    "file,cat=read_dic('French_LIWC2007_Dictionary.dic')"
   ]
  },
  {
   "cell_type": "code",
   "execution_count": 10,
   "metadata": {},
   "outputs": [],
   "source": [
    "from liwc import _build_trie\n",
    "trie=_build_trie(file)\n"
   ]
  },
  {
   "cell_type": "code",
   "execution_count": 30,
   "metadata": {},
   "outputs": [],
   "source": [
    "\n",
    "def have_category(dic, category):\n",
    "    C=[]\n",
    "    for key,value in dic.items():\n",
    "        if category in value :\n",
    "            C.append(key)\n",
    "    return(C)\n",
    "    \n",
    "    \n"
   ]
  },
  {
   "cell_type": "code",
   "execution_count": 40,
   "metadata": {},
   "outputs": [],
   "source": [
    "colere=have_category(file, 'colère')\n",
    "sante=have_category(file, 'santé')\n",
    "incl=have_category(file, 'inclusion')\n",
    "exl=have_category(file, 'exclusion')"
   ]
  },
  {
   "cell_type": "code",
   "execution_count": 42,
   "metadata": {
    "scrolled": false
   },
   "outputs": [
    {
     "name": "stdout",
     "output_type": "stream",
     "text": [
      "['à', 'accepta', 'acceptâ*', 'acceptab*', 'acceptai*', 'acceptant', 'acceptas', 'accepte', 'accepté*', 'accepten*', 'acceptèr*', 'acceptera*', 'accepterez', 'acceptero*', 'acceptes', 'acceptez', 'acceptie*', 'acceptions', 'accepto*', 'accoupla', 'accouplâ*', 'accouplai*', 'accouplant', 'accouplas', 'accouple', 'accouplé*', 'accouplen*', 'accoupler', 'accouplèr*', 'accouplera*', 'accouplerez', 'accouplero*', 'accouples', 'accouplez', 'accoupli*', 'accouplo*', 'acquéra*', 'acquérez', 'acquériez', 'acquério*', 'acquérir', 'acquéro*', 'acquerr*', 'acquî*', 'acquier*', 'acquièr*', 'acquiérant', 'acquir*', 'acquis', 'acquise*', 'acquisition*', 'acquit', 'activa', 'activâ*', 'activai*', 'activant*', 'activas', 'activation*', 'active', 'activé*', 'activen*', 'activer', 'activèr*', 'activera*', 'activerez', 'activero*', 'actives', 'activez', 'activi*', 'activo*', 'additif*', 'addition', 'additionna', 'additionnâ*', 'additionnai*', 'additionnant', 'additionnas', 'additionne', 'additionné*', 'additionnen*', 'additionner', 'additionnèr*', 'additionnera*', 'additionnerez', 'additionnero*', 'additionnes', 'additionnez', 'additionni*', 'additionno*', 'additions', 'additive', 'additivement', 'additives', 'admet', 'admets', 'admettai*', 'admettant', 'admette*', 'admetti*', 'admetto*', 'admettra*', 'admettre', 'admettrez', 'admettro*', 'admi', 'admî*', 'admis', 'admise*', 'admission*', 'admit', 'ainsi', 'ajout', 'ajouta', 'ajoutâ*', 'ajoutai*', 'ajoutant*', 'ajoutas', 'ajoute', 'ajouté*', 'ajouten*', 'ajouter', 'ajoutèr*', 'ajoutera*', 'ajouterez', 'ajoutero*', 'ajoutes', 'ajoutez', 'ajouti*', 'ajouto*', 'ajouts', 'appropria', 'appropriâ*', 'appropriai*', 'appropriant', 'approprias', 'appropriation*', 'approprie', 'approprié*', 'approprien*', 'approprier', 'approprièr*', 'appropriera*', 'approprierez', 'appropriero*', 'appropries', 'appropriez', 'approprii*', 'approprio*', 'arriva', 'arrivâ*', 'arrivai*', 'arrivant*', 'arrivas', 'arrive', 'arrivé', 'arrivée', 'arrivées', 'arriven*', 'arriver', 'arrivèr*', 'arrivera*', 'arriverez', 'arrivero*', 'arrives', 'arrivés', 'arrivez', 'arrivi*', 'arrivo*', 'assembla', 'assemblâ*', 'assemblai*', 'assemblant', 'assemblas', 'assemble', 'assemblé', 'assemblen*', 'assembler', 'assemblèr*', 'assemblera*', 'assemblerez', 'assemblero*', 'assembles', 'assemblés', 'assemblez', 'assembli*', 'assemblo*', 'assujetti', 'assujettî*', 'assujettie*', 'assujettir', 'assujettira*', 'assujettirent', 'assujettirez', 'assujettiro*', 'assujettis', 'assujettissai*', 'assujettissant*', 'assujettissement*', 'assujettissent', 'assujettissez', 'assujettissi*', 'assujettissons', 'assujettit', 'attribua', 'attribuâ*', 'attribuai*', 'attribuant', 'attribuas', 'attribue', 'attribué*', 'attribuen*', 'attribuer', 'attribuèr*', 'attribuera*', 'attribuerez', 'attribuero*', 'attribues', 'attribuez', 'attribui*', 'attribuo*', 'attribution*', 'aussi', 'autour', 'avec', 'cad', 'calcul*', 'catégorie*', 'catégorisa', 'catégorisâ*', 'catégorisai*', 'catégorisant', 'catégorisas', 'catégorise', 'catégorisé*', 'catégorisen*', 'catégoriser', 'catégorisèr*', 'catégorisera*', 'catégoriserez', 'catégorisero*', 'catégorises', 'catégorisez', 'catégorisi*', 'catégoriso*', \"c'est-à-dire\", 'chacun*', 'chaque', 'comme', 'compta', 'comptâ*', 'comptai*', 'comptant', 'comptas', 'compte', 'compté*', 'compten*', 'compter', 'comptèr*', 'comptera*', 'compterez', 'comptero*', 'comptes', 'comptez', 'compti*', 'compto*', \"d'acceptation*\", \"d'accouplement*\", \"d'acquisition*\", \"d'activité*\", \"d'addition*\", \"d'admission*\", \"d'ajout*\", 'dans', \"d'arrivant*\", \"d'arrivée*\", \"d'assemblage*\", \"d'assujettissement*\", \"d'attribution*\", 'dedans', 'définitive', \"d'inclusion*\", 'dont', \"d'un\", \"d'une\", 'ensemble', 'entièrement', 'essentiel', 'essentielle', 'essentiellement', 'essentielles', 'essentiels', 'et', 'falsifia', 'falsifiâ*', 'falsifiai*', 'falsifiant', 'falsifias', 'falsifie', 'falsifié*', 'falsifien*', 'falsifier', 'falsifièr*', 'falsifiera*', 'falsifierez', 'falsifiero*', 'falsifies', 'falsifiez', 'falsifii*', 'falsifio*', 'ferma', 'fermâ*', 'fermai*', 'fermant*', 'fermas', 'fermé', 'fermée*', 'fermen*', 'fermer', 'fermèr*', 'fermera*', 'fermerez', 'fermero*', 'fermes', 'fermés', 'fermeture*', 'fermez', 'fermi*', 'fermo*', 'fourni', 'fournî*', 'fournie*', 'fournir', 'fournira*', 'fourniren*', 'fournirez', 'fourniro*', 'fournis', 'fournissai*', 'fournissant', 'fournisse*', 'fournissi*', 'fournisso*', 'fournit', 'inclû*', 'incluai*', 'incluant', 'incluen*', 'incluez', 'inclui*', 'incluo*', 'inclura*', 'inclure', 'incluren*', 'inclurez', 'incluro*', 'inclus', 'incluse*', 'inclut', 'intérieur', 'intervalle', \"j'acceptai*\", \"j'accepte\", \"j'acceptera*\", \"j'accouplai*\", \"j'accouple\", \"j'accouplera*\", \"j'acquéra*\", \"j'acquerr*\", \"j'acquier*\", \"j'acquis\", \"j'activai*\", \"j'active\", \"j'activera*\", \"j'additionnai*\", \"j'additionne\", \"j'additionnera*\", \"j'admets\", \"j'admettai*\", \"j'admettra*\", \"j'admis\", \"j'ajoutai*\", \"j'ajoute\", \"j'ajoutera*\", \"j'appropriai*\", \"j'approprie\", \"j'appropriera*\", \"j'arrivai*\", \"j'arrive\", \"j'arrivera*\", \"j'assemblai*\", \"j'assemble\", \"j'assemblera*\", \"j'assujettira*\", \"j'assujettis\", \"j'assujettissai*\", \"j'attribuai*\", \"j'attribue\", \"j'attribuera*\", \"j'incluai*\", \"j'inclura*\", \"j'inclus\", \"j'ouvrai*\", \"j'ouvre*\", \"j'ouvri*\", \"j'ouvrira*\", \"jusqu'à\", \"jusqu'au*\", \"jusqu'en\", \"jusqu'où\", \"l'accepta\", \"l'acceptâ*\", \"l'acceptai*\", \"l'acceptant\", \"l'acceptas\", \"l'acceptation\", \"l'accepte\", \"l'accepten*\", \"l'acceptèr*\", \"l'acceptera*\", \"l'accepterez\", \"l'acceptero*\", \"l'acceptes\", \"l'acceptez\", \"l'acceptie*\", \"l'acceptions\", \"l'accepto*\", \"l'accoupla\", \"l'accouplâ*\", \"l'accouplai*\", \"l'accouplant\", \"l'accouplas\", \"l'accouple\", \"l'accouplement\", \"l'accouplen*\", \"l'accouplèr*\", \"l'accouplera*\", \"l'accouplerez\", \"l'accouplero*\", \"l'accouples\", \"l'accouplez\", \"l'accoupli*\", \"l'accouplo*\", \"l'acquéra*\", \"l'acquérez\", \"l'acquériez\", \"l'acquério*\", \"l'acquéro*\", \"l'acquerr*\", \"l'acquî*\", \"l'acquier*\", \"l'acquièr*\", \"l'acquiérant\", \"l'acquir*\", \"l'acquis\", \"l'acquisition\", \"l'acquit\", \"l'activa\", \"l'activâ*\", \"l'activai*\", \"l'activant\", \"l'activas\", \"l'active\", \"l'activen*\", \"l'activèr*\", \"l'activera*\", \"l'activerez\", \"l'activero*\", \"l'actives\", \"l'activez\", \"l'activi*\", \"l'activité\", \"l'activo*\", \"l'addition\", \"l'additionna\", \"l'additionnâ*\", \"l'additionnai*\", \"l'additionnant\", \"l'additionnas\", \"l'additionne\", \"l'additionnen*\", \"l'additionnèr*\", \"l'additionnera*\", \"l'additionnerez\", \"l'additionnero*\", \"l'additionnes\", \"l'additionnez\", \"l'additionni*\", \"l'additionno*\", \"l'admet\", \"l'admets\", \"l'admettai*\", \"l'admettant\", \"l'admette*\", \"l'admetti*\", \"l'admetto*\", \"l'admettra*\", \"l'admettrez\", \"l'admettro*\", \"l'admî*\", \"l'admission\", \"l'ajout\", \"l'ajouta\", \"l'ajoutâ*\", \"l'ajoutai*\", \"l'ajoutant\", \"l'ajoutas\", \"l'ajoute\", \"l'ajouten*\", \"l'ajoutèr*\", \"l'ajoutera*\", \"l'ajouterez\", \"l'ajoutero*\", \"l'ajoutes\", \"l'ajoutez\", \"l'ajouti*\", \"l'ajouto*\", \"l'arrivant\", \"l'arrivée\", \"l'assembla\", \"l'assemblâ*\", \"l'assemblage\", \"l'assemblai*\", \"l'assemblant\", \"l'assemblas\", \"l'assemble\", \"l'assemblen*\", \"l'assemblèr*\", \"l'assemblera*\", \"l'assemblerez\", \"l'assemblero*\", \"l'assembles\", \"l'assemblez\", \"l'assembli*\", \"l'assemblo*\", \"l'assujettî*\", \"l'assujettira*\", \"l'assujettirent\", \"l'assujettirez\", \"l'assujettiro*\", \"l'assujettis\", \"l'assujettissai*\", \"l'assujettissant\", \"l'assujettissement\", \"l'assujettissent\", \"l'assujettissez\", \"l'assujettissi*\", \"l'assujettissons\", \"l'assujettit\", \"l'attribua\", \"l'attribuâ*\", \"l'attribuai*\", \"l'attribuant\", \"l'attribuas\", \"l'attribue\", \"l'attribuen*\", \"l'attribuèr*\", \"l'attribuera*\", \"l'attribuerez\", \"l'attribuero*\", \"l'attribues\", \"l'attribuez\", \"l'attribui*\", \"l'attribuo*\", \"l'attribution\", \"l'incluai*\", \"l'incluant\", \"l'incluen*\", \"l'incluez\", \"l'inclui*\", \"l'incluo*\", \"l'inclura*\", \"l'incluren*\", \"l'inclurez\", \"l'incluro*\", \"l'inclus\", \"l'inclusion\", \"l'inclut\", \"l'ouvrai*\", \"l'ouvrant\", \"l'ouvre*\", \"l'ouvri*\", \"l'ouvrî*\", \"l'ouvrira*\", \"l'ouvrirez\", \"l'ouvriro*\", \"l'ouvro*\", \"l'un\", \"l'une\", \"m'accepta\", \"m'acceptâ*\", \"m'acceptai*\", \"m'acceptant\", \"m'acceptas\", \"m'accepte\", \"m'accepten*\", \"m'acceptèr*\", \"m'acceptera*\", \"m'accepterez\", \"m'acceptero*\", \"m'acceptes\", \"m'acceptez\", \"m'acceptie*\", \"m'accoupla\", \"m'accouplâ*\", \"m'accouplai*\", \"m'accouplant\", \"m'accouplas\", \"m'accouple\", \"m'accouplen*\", \"m'accouplèr*\", \"m'accouplera*\", \"m'accouplerez\", \"m'accouplero*\", \"m'accouples\", \"m'accouplez\", \"m'accoupli*\", \"m'acquéra*\", \"m'acquérez\", \"m'acquériez\", \"m'acquerr*\", \"m'acquî*\", \"m'acquier*\", \"m'acquièr*\", \"m'acquiérant\", \"m'acquir*\", \"m'acquis\", \"m'acquit\", \"m'activa\", \"m'activâ*\", \"m'activai*\", \"m'activant\", \"m'activas\", \"m'active\", \"m'activen*\", \"m'activèr*\", \"m'activera*\", \"m'activerez\", \"m'activero*\", \"m'actives\", \"m'activez\", \"m'activi*\", \"m'additionna\", \"m'additionnâ*\", \"m'additionnai*\", \"m'additionnant\", \"m'additionnas\", \"m'additionne\", \"m'additionnen*\", \"m'additionnèr*\", \"m'additionnera*\", \"m'additionnerez\", \"m'additionnero*\", \"m'additionnes\", \"m'additionnez\", \"m'additionni*\", \"m'admet\", \"m'admets\", \"m'admettai*\", \"m'admettant\", \"m'admette*\", \"m'admetti*\", \"m'admettra*\", \"m'admettrez\", \"m'admettro*\", \"m'admî*\", \"m'ajouta\", \"m'ajoutâ*\", \"m'ajoutai*\", \"m'ajoutant\", \"m'ajoutas\", \"m'ajoute\", \"m'ajouten*\", \"m'ajoutèr*\", \"m'ajoutera*\", \"m'ajouterez\", \"m'ajoutero*\", \"m'ajoutes\", \"m'ajoutez\", \"m'ajouti*\", \"m'assembla\", \"m'assemblâ*\", \"m'assemblai*\", \"m'assemblant\", \"m'assemblas\", \"m'assemble\", \"m'assemblen*\", \"m'assemblèr*\", \"m'assemblera*\", \"m'assemblerez\", \"m'assemblero*\", \"m'assembles\", \"m'assemblez\", \"m'assembli*\", \"m'assujettî*\", \"m'assujettira*\", \"m'assujettirent\", \"m'assujettirez\", \"m'assujettiro*\", \"m'assujettis\", \"m'assujettissai*\", \"m'assujettissant\", \"m'assujettissent\", \"m'assujettissez\", \"m'assujettissi*\", \"m'assujettit\", \"m'attribua\", \"m'attribuâ*\", \"m'attribuai*\", \"m'attribuant\", \"m'attribuas\", \"m'attribue\", \"m'attribuen*\", \"m'attribuèr*\", \"m'attribuera*\", \"m'attribuerez\", \"m'attribuero*\", \"m'attribues\", \"m'attribuez\", \"m'attribui*\", \"m'incluai*\", \"m'incluant\", \"m'incluen*\", \"m'incluez\", \"m'inclui*\", \"m'inclura*\", \"m'incluren*\", \"m'inclurez\", \"m'incluro*\", \"m'inclus\", \"m'inclut\", 'mixa', 'mixâ*', 'mixai*', 'mixant', 'mixas', 'mixe', 'mixé*', 'mixen*', 'mixer', 'mixèr*', 'mixera*', 'mixerez', 'mixero*', 'mixes', 'mixez', 'mixi*', 'mixo*', \"m'ouvrai*\", \"m'ouvrant\", \"m'ouvre*\", \"m'ouvri*\", \"m'ouvrî*\", \"m'ouvrira*\", \"m'ouvrirez\", \"m'ouvriro*\", \"n'accepta\", \"n'acceptâ*\", \"n'acceptai*\", \"n'acceptant\", \"n'acceptas\", \"n'accepte\", \"n'accepten*\", \"n'acceptèr*\", \"n'acceptera*\", \"n'accepterez\", \"n'acceptero*\", \"n'acceptes\", \"n'acceptez\", \"n'acceptie*\", \"n'acceptions\", \"n'accepto*\", \"n'accoupla\", \"n'accouplâ*\", \"n'accouplai*\", \"n'accouplant\", \"n'accouplas\", \"n'accouple\", \"n'accouplen*\", \"n'accouplèr*\", \"n'accouplera*\", \"n'accouplerez\", \"n'accouplero*\", \"n'accouples\", \"n'accouplez\", \"n'accoupli*\", \"n'accouplo*\", \"n'acquéra*\", \"n'acquérez\", \"n'acquériez\", \"n'acquério*\", \"n'acquéro*\", \"n'acquerr*\", \"n'acquî*\", \"n'acquier*\", \"n'acquièr*\", \"n'acquiérant\", \"n'acquir*\", \"n'acquis\", \"n'acquit\", \"n'activa\", \"n'activâ*\", \"n'activai*\", \"n'activant\", \"n'activas\", \"n'active\", \"n'activen*\", \"n'activèr*\", \"n'activera*\", \"n'activerez\", \"n'activero*\", \"n'actives\", \"n'activez\", \"n'activi*\", \"n'activo*\", \"n'additionna\", \"n'additionnâ*\", \"n'additionnai*\", \"n'additionnant\", \"n'additionnas\", \"n'additionne\", \"n'additionnen*\", \"n'additionnèr*\", \"n'additionnera*\", \"n'additionnerez\", \"n'additionnero*\", \"n'additionnes\", \"n'additionnez\", \"n'additionni*\", \"n'additionno*\", \"n'admet\", \"n'admets\", \"n'admettai*\", \"n'admettant\", \"n'admette*\", \"n'admetti*\", \"n'admetto*\", \"n'admettra*\", \"n'admettrez\", \"n'admettro*\", \"n'admî*\", \"n'admis\", \"n'admit\", \"n'ajouta\", \"n'ajoutâ*\", \"n'ajoutai*\", \"n'ajoutant\", \"n'ajoutas\", \"n'ajoute\", \"n'ajouten*\", \"n'ajoutèr*\", \"n'ajoutera*\", \"n'ajouterez\", \"n'ajoutero*\", \"n'ajoutes\", \"n'ajoutez\", \"n'ajouti*\", \"n'ajouto*\", \"n'arriva\", \"n'arrivâ*\", \"n'arrivai*\", \"n'arrivant\", \"n'arrivas\", \"n'arrive\", \"n'arriven*\", \"n'arrivèr*\", \"n'arrivera*\", \"n'arriverez\", \"n'arrivero*\", \"n'arrives\", \"n'arrivez\", \"n'arrivi*\", \"n'arrivo*\", \"n'assembla\", \"n'assemblâ*\", \"n'assemblai*\", \"n'assemblant\", \"n'assemblas\", \"n'assemble\", \"n'assemblen*\", \"n'assemblèr*\", \"n'assemblera*\", \"n'assemblerez\", \"n'assemblero*\", \"n'assembles\", \"n'assemblez\", \"n'assembli*\", \"n'assemblo*\", \"n'assujettî*\", \"n'assujettira*\", \"n'assujettirent\", \"n'assujettirez\", \"n'assujettiro*\", \"n'assujettis\", \"n'assujettissai*\", \"n'assujettissant\", \"n'assujettissent\", \"n'assujettissez\", \"n'assujettissi*\", \"n'assujettissons\", \"n'assujettit\", \"n'attribua\", \"n'attribuâ*\", \"n'attribuai*\", \"n'attribuant\", \"n'attribuas\", \"n'attribue\", \"n'attribuen*\", \"n'attribuèr*\", \"n'attribuera*\", \"n'attribuerez\", \"n'attribuero*\", \"n'attribues\", \"n'attribuez\", \"n'attribui*\", \"n'attribuo*\", \"n'incluai*\", \"n'incluant\", \"n'incluen*\", \"n'incluez\", \"n'inclui*\", \"n'incluo*\", \"n'inclura*\", \"n'incluren*\", \"n'inclurez\", \"n'incluro*\", \"n'inclus\", \"n'inclut\", 'notamment', \"n'ouvrai*\", \"n'ouvrant\", \"n'ouvre*\", \"n'ouvri*\", \"n'ouvrî*\", \"n'ouvrira*\", \"n'ouvrirez\", \"n'ouvriro*\", \"n'ouvro*\", 'pénétra', 'pénétrâ*', 'pénétrai*', 'pénétrant*', 'pénétras', 'pénètre*', 'pénétré*', 'pénétrer', 'pénétrèr*', 'pénétrera*', 'pénétrerez', 'pénétrero*', 'pénétrez', 'pénétri*', 'pénétro*', 'plupart', 'plus', 'plusieurs', 'prescription*', 'prescrira*', 'prescrire', 'prescrirez', 'prescriro*', 'prescris', 'prescrit*', 'prescrivai*', 'prescrivant', 'prescrive*', 'prescrivi*', 'prescrivî*', 'prescrivo*', 'quantité*', 'que', 'qui', 'rajout', 'rajouta', 'rajoutâ*', 'rajoutai*', 'rajoutant', 'rajoutas', 'rajoute', 'rajouté*', 'rajouten*', 'rajouter', 'rajoutèr*', 'rajoutera*', 'rajouterez', 'rajoutero*', 'rajoutes', 'rajoutez', 'rajouti*', 'rajouto*', 'rajouts', 'référa', 'référâ*', 'référai*', 'référant*', 'référas', 'réfère*', 'référé*', 'référence', 'référer', 'référèr*', 'référera*', 'référerez', 'référero*', 'référez', 'référi*', 'référo*', 'renfermé*', 'reverra*', 'reverrez', 'reverro*', 'révisa', 'révisâ*', 'révisai*', 'révisant', 'révisas', 'révise', 'révisé*', 'révisen*', 'réviser', 'révisèr*', 'révisera*', 'réviserez', 'révisero*', 'révises', 'révisez', 'révisi*', 'réviso*', 'revoien*', 'revoir', 'revois', 'revoit', 'revoyai*', 'revoyant', 'revoyez', 'revoyi*', 'revoyo*', 'revu', 'revue*', 'revus', \"s'accepta\", \"s'acceptai*\", \"s'acceptant\", \"s'accepte\", \"s'accepten*\", \"s'accepter\", \"s'acceptèr*\", \"s'acceptera*\", \"s'acceptero*\", \"s'accoupla\", \"s'accouplai*\", \"s'accouplant\", \"s'accouple\", \"s'accouplen*\", \"s'accoupler\", \"s'accouplèr*\", \"s'accouplera*\", \"s'accouplero*\", \"s'acquéra*\", \"s'acquérir\", \"s'acquerr*\", \"s'acquier*\", \"s'acquièr*\", \"s'acquiérant\", \"s'acquir*\", \"s'acquit\", \"s'activa\", \"s'activai*\", \"s'activant\", \"s'active\", \"s'activen*\", \"s'activer\", \"s'activèr*\", \"s'activera*\", \"s'activero*\", \"s'additionna\", \"s'additionnai*\", \"s'additionnant\", \"s'additionne\", \"s'additionnen*\", \"s'additionner\", \"s'additionnèr*\", \"s'additionnera*\", \"s'additionnero*\", \"s'admet\", \"s'admettai*\", \"s'admettant\", \"s'admette*\", \"s'admettra*\", \"s'admettre\", \"s'admettro*\", \"s'admit\", \"s'ajouta\", \"s'ajoutai*\", \"s'ajoutant\", \"s'ajoute\", \"s'ajouten*\", \"s'ajouter\", \"s'ajoutèr*\", \"s'ajoutera*\", \"s'ajoutero*\", \"s'assembla\", \"s'assemblai*\", \"s'assemblant\", \"s'assemble\", \"s'assemblen*\", \"s'assembler\", \"s'assemblèr*\", \"s'assemblera*\", \"s'assemblero*\", \"s'assujettir\", \"s'assujettira*\", \"s'assujettirent\", \"s'assujettiro*\", \"s'assujettissai*\", \"s'assujettissant\", \"s'assujettissent\", \"s'assujettit\", \"s'attribua\", \"s'attribuai*\", \"s'attribuant\", \"s'attribue\", \"s'attribuen*\", \"s'attribuer\", \"s'attribuèr*\", \"s'attribuera*\", \"s'attribuero*\", \"s'incluai*\", \"s'incluant\", \"s'incluen*\", \"s'inclura*\", \"s'inclure\", \"s'incluren*\", \"s'incluro*\", \"s'inclut\", 'somma', 'sommâ*', 'sommai*', 'sommant', 'sommas', 'somme', 'sommé*', 'sommen*', 'sommer', 'sommèr*', 'sommera*', 'sommerez', 'sommero*', 'sommes', 'sommez', 'sommi*', 'sommo*', 'sorte', \"s'ouvrai*\", \"s'ouvrant\", \"s'ouvre*\", \"s'ouvrir\", \"s'ouvrira*\", \"s'ouvriro*\", 'standard*', \"t'accepta\", \"t'acceptai*\", \"t'acceptant\", \"t'acceptas\", \"t'accepte\", \"t'accepten*\", \"t'acceptèr*\", \"t'acceptera*\", \"t'acceptero*\", \"t'acceptes\", \"t'accoupla\", \"t'accouplai*\", \"t'accouplant\", \"t'accouplas\", \"t'accouple\", \"t'accouplen*\", \"t'accouplèr*\", \"t'accouplera*\", \"t'accouplero*\", \"t'accouples\", \"t'acquéra*\", \"t'acquerr*\", \"t'acquier*\", \"t'acquièr*\", \"t'acquiérant\", \"t'acquir*\", \"t'acquis\", \"t'acquit\", \"t'activa\", \"t'activai*\", \"t'activant\", \"t'activas\", \"t'active\", \"t'activen*\", \"t'activèr*\", \"t'activera*\", \"t'activero*\", \"t'actives\", \"t'additionna\", \"t'additionnai*\", \"t'additionnant\", \"t'additionnas\", \"t'additionne\", \"t'additionnen*\", \"t'additionnèr*\", \"t'additionnera*\", \"t'additionnero*\", \"t'additionnes\", \"t'admet\", \"t'admets\", \"t'admettai*\", \"t'admettant\", \"t'admette*\", \"t'admettra*\", \"t'admettro*\", \"t'admis\", \"t'admit\", \"t'ajouta\", \"t'ajoutai*\", \"t'ajoutant\", \"t'ajoutas\", \"t'ajoute\", \"t'ajouten*\", \"t'ajoutèr*\", \"t'ajoutera*\", \"t'ajoutero*\", \"t'ajoutes\", \"t'assembla\", \"t'assemblai*\", \"t'assemblant\", \"t'assemblas\", \"t'assemble\", \"t'assemblen*\", \"t'assemblèr*\", \"t'assemblera*\", \"t'assemblero*\", \"t'assembles\", \"t'assujettira*\", \"t'assujettirent\", \"t'assujettiro*\", \"t'assujettis\", \"t'assujettissai*\", \"t'assujettissant\", \"t'assujettissent\", \"t'assujettit\", \"t'attribua\", \"t'attribuai*\", \"t'attribuant\", \"t'attribuas\", \"t'attribue\", \"t'attribuen*\", \"t'attribuèr*\", \"t'attribuera*\", \"t'attribuero*\", \"t'attribues\", 'tel', 'telle', 'telles', 'tels', \"t'incluai*\", \"t'incluant\", \"t'incluen*\", \"t'inclura*\", \"t'incluren*\", \"t'incluro*\", \"t'inclus\", \"t'inclut\", \"t'ouvrai*\", \"t'ouvrant\", \"t'ouvre*\", \"t'ouvrira*\", \"t'ouvriro*\", 'venai*', 'venant', 'venez', 'veniez', 'venions', 'venir', 'veno*', 'venu', 'venue*', 'venus', 'viendra*', 'viendrez', 'viendro*', 'viennent', 'viens', 'vient', 'vîn*', 'vinren*', 'vins', 'vint']\n"
     ]
    }
   ],
   "source": [
    "print(incl)"
   ]
  }
 ],
 "metadata": {
  "kernelspec": {
   "display_name": "Python 3",
   "language": "python",
   "name": "python3"
  },
  "language_info": {
   "codemirror_mode": {
    "name": "ipython",
    "version": 3
   },
   "file_extension": ".py",
   "mimetype": "text/x-python",
   "name": "python",
   "nbconvert_exporter": "python",
   "pygments_lexer": "ipython3",
   "version": "3.6.3"
  }
 },
 "nbformat": 4,
 "nbformat_minor": 2
}
