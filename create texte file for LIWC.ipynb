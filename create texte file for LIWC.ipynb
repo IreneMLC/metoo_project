{
 "cells": [
  {
   "cell_type": "code",
   "execution_count": 1,
   "metadata": {},
   "outputs": [],
   "source": [
    "import pandas as pd\n",
    "import json\n",
    "\n",
    "import numpy as np\n",
    "import matplotlib.pyplot as plt\n",
    "\n",
    "import pylab\n",
    "import nltk\n",
    "import operator \n",
    "from collections import Counter\n",
    "import regex as re\n",
    "\n",
    "import re\n",
    "import string\n",
    "\n",
    "\n",
    "\n",
    "\n",
    "#### data\n",
    "json_tweet_btp='C:/Users/Robin/Dropbox/Travaux_&_Rapports_Stages/UbicomLab-GATech/MeToo/code/Data_tweets/clean_tweet.json'\n",
    "json_btp_com='C:/Users/Robin/Dropbox/Travaux_&_Rapports_Stages/UbicomLab-GATech/MeToo/code/balancetonporc_com/strories_balancetonporc_com.json'\n",
    "json_metoo='C:/Users/Robin/Dropbox/Travaux_&_Rapports_Stages/UbicomLab-GATech/MeToo/code/Data-metoo/clean_tweet_metoo.json'\n",
    "json_p_btp='C:/Users/Robin/btp_clean_tweet_with_punctiation.json'\n",
    "\n",
    "df_story = pd.read_json(json_btp_com, orient=\"columns\")\n",
    "df_tweet = pd.read_json(json_tweet_btp, orient=\"columns\")\n",
    "df_metoo= pd.read_json(json_metoo, orient=\"columns\")\n",
    "df_p_btp=pd.read_json(json_p_btp, orient=\"columns\")"
   ]
  },
  {
   "cell_type": "code",
   "execution_count": 3,
   "metadata": {},
   "outputs": [],
   "source": [
    "# create text file with one tweet\n",
    "import os\n",
    "newpath = r'C:\\Users\\Robin\\TweetsBTP_punctuation' \n",
    "if not os.path.exists(newpath):\n",
    "    os.makedirs(newpath)\n",
    "\n",
    "for i in range(len(df_p_btp['text'])):\n",
    "    filename='TweetsBTP_punctuation/tweet'+str(i)+\"_\"+str(df_p_btp['id'].iloc[i])+'.txt'\n",
    "    file = open(filename,'w',encoding='utf-8')\n",
    "    #for j in range(len(doc_stories_clean[i])):\n",
    "    text=df_p_btp['text'].iloc[i]\n",
    "    file.write(text)\n",
    "    file.write('\\n')\n",
    "    file.close()"
   ]
  }
 ],
 "metadata": {
  "kernelspec": {
   "display_name": "Python 3",
   "language": "python",
   "name": "python3"
  },
  "language_info": {
   "codemirror_mode": {
    "name": "ipython",
    "version": 3
   },
   "file_extension": ".py",
   "mimetype": "text/x-python",
   "name": "python",
   "nbconvert_exporter": "python",
   "pygments_lexer": "ipython3",
   "version": "3.6.3"
  }
 },
 "nbformat": 4,
 "nbformat_minor": 2
}
